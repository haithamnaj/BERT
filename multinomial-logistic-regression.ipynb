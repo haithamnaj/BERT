{
  "cells": [
    {
      "cell_type": "markdown",
      "metadata": {
        "id": "PC5-pH1GiFPB"
      },
      "source": [
        "# Multi-Class Logistic Regression in Numpy\n",
        "\n"
      ]
    },
    {
      "cell_type": "markdown",
      "metadata": {
        "id": "EncSRSGGiFPE"
      },
      "source": [
        "### Import Libraries"
      ]
    },
    {
      "cell_type": "code",
      "execution_count": 1,
      "metadata": {
        "scrolled": false,
        "id": "Qt7UqpWriFPF"
      },
      "outputs": [],
      "source": [
        "import numpy as np\n",
        "import matplotlib.pyplot as  plt"
      ]
    },
    {
      "cell_type": "code",
      "source": [
 
      ],
      "metadata": {
        "id": "qUCXU-yOiJYA",
        "outputId": "4784f527-da60-4602-bea4-8e4e284cc04f",
        "colab": {
          "base_uri": "https://localhost:8080/"
        }
      },
      "execution_count": 2,
      "outputs": [
        {
          "output_type": "stream",
          "name": "stdout",
          "text": [
            "Cloning into 'multinomial-logistic-regression'...\n",
            "remote: Enumerating objects: 13, done.\u001b[K\n",
            "remote: Total 13 (delta 0), reused 0 (delta 0), pack-reused 13\u001b[K\n",
            "Unpacking objects: 100% (13/13), done.\n"
          ]
        }
      ]
    },
    {
      "cell_type": "markdown",
      "metadata": {
        "id": "NZhiklOkiFPG"
      },
      "source": [
        "### Load training data"
      ]
    },
    {
      "cell_type": "code",
      "execution_count": 3,
      "metadata": {
        "id": "ldGCT4lAiFPG"
      },
      "outputs": [],
      "source": [
        "#load data as numpy array using genfromtxt\n",
        "train_data = np.genfromtxt('/content/multinomial-logistic-regression/multiclass-classification/train.csv', delimiter=',', skip_header=1)\n",
        "\n",
        "#no of samples\n",
        "m = train_data.shape[0]\n",
        "\n",
        "#input(Features) last column is the output column so slicing the train_data based on that \n",
        "X = train_data[:,:-1]\n",
        "\n",
        "#As we are using vector implementation adding a column in X with all the value 1\n",
        "X = np.hstack((np.ones((m,1)),X))\n",
        "\n",
        "#output\n",
        "y = train_data[:,-1:]"
      ]
    },
    {
      "cell_type": "code",
      "source": [
        "train_data[0:8]"
      ],
      "metadata": {
        "id": "W9MDiywBi0up",
        "outputId": "1c09a2ce-0fd9-4f1e-e21f-18c823708d0a",
        "colab": {
          "base_uri": "https://localhost:8080/"
        }
      },
      "execution_count": 12,
      "outputs": [
        {
          "output_type": "execute_result",
          "data": {
            "text/plain": [
              "array([[22.63, 61.39,  0.  ],\n",
              "       [99.38, 27.28,  1.  ],\n",
              "       [94.32, 66.42,  2.  ],\n",
              "       [23.43, 40.44,  0.  ],\n",
              "       [98.36,  8.14,  1.  ],\n",
              "       [92.73, 89.  ,  2.  ],\n",
              "       [24.96, 40.41,  0.  ],\n",
              "       [96.63, 30.67,  1.  ]])"
            ]
          },
          "metadata": {},
          "execution_count": 12
        }
      ]
    },
    {
      "cell_type": "markdown",
      "metadata": {
        "id": "IGU2dP-ciFPH"
      },
      "source": [
        "Since we have 3 classes we will design 3 model one for classifying each classes. So for easier computation we will convert our output vector in matrix where no of columns is equal to the no of classes. The values in the matrix will be 0 or 1. For instance the rows where we have output 2 the column 2 will contain 1 and rest all 0 . "
      ]
    },
    {
      "cell_type": "code",
      "execution_count": 4,
      "metadata": {
        "id": "AP4rtpjniFPH"
      },
      "outputs": [],
      "source": [
        "#For multi class classification we uses the concept of one vs all\n",
        "#as we have 3 classes so y will be of shape m,3\n",
        "Y = np.zeros((m,3))\n",
        "\n",
        "#no of classes\n",
        "k = np.unique(y)\n",
        "k.sort()\n",
        "\n",
        "#in Y matrix for each class columns put 1 wherin the rows belong to that class\n",
        "for cls in k.astype(int):\n",
        "    Y[np.where(y[:,-1] == cls),cls] = 1"
      ]
    },
    {
      "cell_type": "markdown",
      "metadata": {
        "id": "Fnz3h5z1iFPI"
      },
      "source": [
        "### Visualize data\n",
        "There are 2 features lets plot them as x,y with features belonging to class 0 as red and class 1 as green and class 2 as blue "
      ]
    },
    {
      "cell_type": "code",
      "execution_count": 5,
      "metadata": {
        "id": "XL97_2PWiFPJ",
        "outputId": "876db5c2-8344-4993-cf3d-54de47e2ab5d",
        "colab": {
          "base_uri": "https://localhost:8080/",
          "height": 374
        }
      },
      "outputs": [
        {
          "output_type": "display_data",
          "data": {
            "text/plain": [
              "<Figure size 432x432 with 1 Axes>"
            ],
            "image/png": "[encoded data removed]"
          },
          "metadata": {
            "needs_background": "light"
          }
        }
      ],
      "source": [
        "plt.figure(figsize=(6,6))\n",
        "plt.scatter(X[y[:,0] == 0][:,1], X[y[:,0] == 0][:,2], label='class 0', c='r')\n",
        "plt.scatter(X[y[:,0] == 1][:,1], X[y[:,0] == 1][:,2], label='class 1', c='g')\n",
        "plt.scatter(X[y[:,0] == 2][:,1], X[y[:,0] == 2][:,2], label='class 2', c='b')\n",
        "\n",
        "plt.show()"
      ]
    },
    {
      "cell_type": "markdown",
      "metadata": {
        "id": "nw7CJEV8iFPK"
      },
      "source": [
        "### Logistic Regression Implementation\n",
        "For multi-class logistic regression we have 3 models so our theta will be of shape (3,3) and cost arr of shape (no_of_iterations,3) one for each model "
      ]
    },
    {
      "cell_type": "code",
      "execution_count": 6,
      "metadata": {
        "id": "6K9CssS6iFPL"
      },
      "outputs": [],
      "source": [
        "#define theta with size 3,3 as there are 3 features and 3 models, lets take the initial value as 0\n",
        "theta = np.zeros((3,3))\n",
        "\n",
        "#learning rate\n",
        "learning_rate = 0.001\n",
        "\n",
        "#no of iterations we want our model to be trained\n",
        "no_of_iterations = 200000\n",
        "\n",
        "#to visualise the cost function\n",
        "cost_arr = np.empty((0,3))\n",
        "\n",
        "#counter\n",
        "i = 1\n",
        "\n",
        "def sigmoid(z):\n",
        "    return 1 / (1 + np.exp(-z))\n",
        "\n",
        "for i in range(no_of_iterations):\n",
        "    \n",
        "    #model/hypothesis function\n",
        "    lineq = np.dot(X, theta.T)\n",
        "    h = sigmoid(lineq)\n",
        "    \n",
        "    #cost function -1/m * sum (y log h + (1-y)log(1-h))for each class\n",
        "    cost = -1/m * ((Y * np.log(h)) + ((1-Y) * np.log(1-h)))\n",
        "    cost = cost.sum(axis = 0)\n",
        "    cost_arr = np.vstack((cost_arr, cost))\n",
        "    \n",
        "    #applying gradient descent to calculate new theta = theta - (learning_rate/m * summation[(h-y)*x]) -> delta\n",
        "    #summation can be replace by matrix multiplication\n",
        "    delta = (learning_rate/m) * np.dot((h-Y).T, X)\n",
        "    theta = theta - delta  \n",
        "    \n",
        "    i = i + 1;"
      ]
    },
    {
      "cell_type": "markdown",
      "metadata": {
        "id": "zTAIYomliFPL"
      },
      "source": [
        "### Plot cost values"
      ]
    },
    {
      "cell_type": "code",
      "execution_count": 7,
      "metadata": {
        "id": "AM9rSSRHiFPM",
        "outputId": "a5e2309b-bea6-4578-9dba-d18675598581",
        "colab": {
          "base_uri": "https://localhost:8080/",
          "height": 265
        }
      },
      "outputs": [
        {
          "output_type": "display_data",
          "data": {
            "text/plain": [
              "<Figure size 432x288 with 1 Axes>"
            ],
            "image/png": "[encoded data removed]"
          },
          "metadata": {
            "needs_background": "light"
          }
        }
      ],
      "source": [
        "plt.plot(cost_arr[:,0], label='class 0', c='r')\n",
        "plt.plot(cost_arr[:,1], label='class 1', c='g')\n",
        "plt.plot(cost_arr[:,2], label='class 2', c='b')\n",
        "plt.show()"
      ]
    },
    {
      "cell_type": "markdown",
      "metadata": {
        "id": "TepsT9NWiFPM"
      },
      "source": [
        "### Plot the decision boundary line\n",
        "only need 2 points to define the line lets take min and max of feature 1 and calculate feature 2 based on the theta values we have\n",
        "\n",
        "y = theta0 + theta1x1 + theta2x2, since y is 3rd dimension take y as 0 and calculate x2 to plot the decision boundary line"
      ]
    },
    {
      "cell_type": "code",
      "execution_count": 8,
      "metadata": {
        "id": "aa6Hgj_CiFPN",
        "outputId": "300ebf6d-6b01-4d6a-8574-a973b05ae66b",
        "colab": {
          "base_uri": "https://localhost:8080/",
          "height": 374
        }
      },
      "outputs": [
        {
          "output_type": "display_data",
          "data": {
            "text/plain": [
              "<Figure size 432x432 with 1 Axes>"
            ],
            "image/png": "[encoded data removed]"
          },
          "metadata": {
            "needs_background": "light"
          }
        }
      ],
      "source": [
        " #plot the decision boundary line\n",
        "plot_x = np.array([min(X[:,1]),max(X[:,2])])\n",
        "plot_y0 = -1/theta[0,2] * ((theta[0,1] * plot_x) + theta[0,0])\n",
        "plot_y1 = -1/theta[1,2] * ((theta[1,1] * plot_x) + theta[1,0])\n",
        "plot_y2 = -1/theta[2,2] * ((theta[2,1] * plot_x) + theta[2,0])\n",
        "\n",
        "plt.figure(figsize=(6,6))\n",
        "plt.scatter(X[y[:,0] == 0][:,1], X[y[:,0] == 0][:,2], label='class 0', c='r')\n",
        "plt.scatter(X[y[:,0] == 1][:,1], X[y[:,0] == 1][:,2], label='class 1', c='g')\n",
        "plt.scatter(X[y[:,0] == 2][:,1], X[y[:,0] == 2][:,2], label='class 2', c='b')\n",
        "plt.plot(plot_x,plot_y0)\n",
        "plt.plot(plot_x,plot_y1)\n",
        "plt.plot(plot_x,plot_y2)\n",
        "plt.show()"
      ]
    },
    {
      "cell_type": "markdown",
      "metadata": {
        "id": "F1RpRGr4iFPN"
      },
      "source": [
        "### Prediction on test data\n",
        "\n",
        "Our model is ready lets apply it on test data. \n",
        "\n",
        "lets define the predict array with 0 and update 1 for the inputs where the sigmoid value is greater than 0.5"
      ]
    },
    {
      "cell_type": "code",
      "execution_count": 9,
      "metadata": {
        "id": "j7NDz2rAiFPN"
      },
      "outputs": [],
      "source": [
        "#load test data as numpy array using genfromtxt\n",
        "test_data = np.genfromtxt('/content/multinomial-logistic-regression/multiclass-classification/test.csv', delimiter=',', skip_header=1)\n",
        "\n",
        "#no of test samples\n",
        "test_m = test_data.shape[0]\n",
        "\n",
        "#test input(Features) \n",
        "test_X = test_data[:,:-1]\n",
        "\n",
        "#As we are using vector implementation adding a column in test_X with all the value 1\n",
        "test_X = np.hstack((np.ones((test_m,1)),test_X))\n",
        "\n",
        "#test output\n",
        "test_y = test_data[:,-1:]\n",
        "\n",
        "#predict \n",
        "pred = np.zeros((test_m,3))\n",
        "model_predict = sigmoid(np.dot(test_X, theta.T))\n",
        "pred[model_predict > 0.5] = 1\n",
        "\n",
        "#converting the prediction matrix into vectors\n",
        "predict = np.zeros((test_m,1))\n",
        "predict[pred[:,1] == 1] = 1\n",
        "predict[pred[:,2] == 1] = 2"
      ]
    },
    {
      "cell_type": "markdown",
      "metadata": {
        "id": "YuLxgZOJiFPO"
      },
      "source": [
        "### Comparing our model with scikit library\n",
        "\n",
        "Lets compare our model with the scikit logistic model. we have used mean square error and variance values for model comparison.\n"
      ]
    },
    {
      "cell_type": "code",
      "execution_count": 10,
      "metadata": {
        "id": "4MGw-sUdiFPO",
        "outputId": "a94c76f6-c668-4a30-c201-98d1964608f6",
        "colab": {
          "base_uri": "https://localhost:8080/"
        }
      },
      "outputs": [
        {
          "output_type": "stream",
          "name": "stdout",
          "text": [
            "Sklearn\n",
            "Coefficients: [[-0.18742783 -0.46647707 -0.49740439]\n",
            " [-0.14083045  0.24988708 -0.33357018]\n",
            " [ 0.32825829  0.21658998  0.83097457]]\n",
            "Mean squared error: 0.00\n",
            "Variance score: 1.00\n",
            "\n",
            "\n",
            "Our Model\n",
            "Coefficients: [[ 6.40021736e+00 -1.39447586e-01 -4.78757962e-02]\n",
            " [-2.07444826e+00  8.94816188e-02 -6.49579515e-02]\n",
            " [-7.54354414e+00 -5.06823544e-03  1.17747915e-01]]\n",
            "Mean squared error: 0.20\n",
            "Variance score: 0.77\n"
          ]
        },
        {
          "output_type": "stream",
          "name": "stderr",
          "text": [
            "/usr/local/lib/python3.7/dist-packages/sklearn/linear_model/_logistic.py:818: ConvergenceWarning: lbfgs failed to converge (status=1):\n",
            "STOP: TOTAL NO. of ITERATIONS REACHED LIMIT.\n",
            "\n",
            "Increase the number of iterations (max_iter) or scale the data as shown in:\n",
            "    https://scikit-learn.org/stable/modules/preprocessing.html\n",
            "Please also refer to the documentation for alternative solver options:\n",
            "    https://scikit-learn.org/stable/modules/linear_model.html#logistic-regression\n",
            "  extra_warning_msg=_LOGISTIC_SOLVER_CONVERGENCE_MSG,\n"
          ]
        }
      ],
      "source": [
        "from sklearn import linear_model\n",
        "from sklearn.metrics import mean_squared_error, explained_variance_score\n",
        "\n",
        "#train the model with training data\n",
        "regr = linear_model.LogisticRegression()\n",
        "regr.fit(X,y.reshape(m))\n",
        "\n",
        "#Predict our test data\n",
        "sklearn_predict = regr.predict(test_X)\n",
        "\n",
        "print('Sklearn')\n",
        "#coefficients\n",
        "print('Coefficients: {}'.format(regr.coef_))\n",
        "# The mean squared error\n",
        "print(\"Mean squared error: %.2f\" % mean_squared_error(sklearn_predict, test_y))\n",
        "# Explained variance score: 1 is perfect prediction\n",
        "print('Variance score: %.2f' % explained_variance_score(test_y, sklearn_predict))\n",
        "\n",
        "print('\\n')\n",
        "\n",
        "print('Our Model')\n",
        "#coefficients\n",
        "print('Coefficients: {}'.format(theta))\n",
        "# The mean squared error\n",
        "print(\"Mean squared error: %.2f\" % mean_squared_error(predict, test_y))\n",
        "# Explained variance score: 1 is perfect prediction\n",
        "print('Variance score: %.2f' % explained_variance_score(test_y, predict))\n"
      ]
    },
    {
      "cell_type": "markdown",
      "metadata": {
        "id": "CxJZJgRXiFPO"
      },
      "source": [
        "It seems our model mean squared error and variance is much better than sklearn model."
      ]
    },
    {
      "cell_type": "code",
      "source": [
        ""
      ],
      "metadata": {
        "id": "_cRjrjQVkBNS"
      },
      "execution_count": null,
      "outputs": []
    }
  ],
  "metadata": {
    "kernelspec": {
      "display_name": "Python 3",
      "language": "python",
      "name": "python3"
    },
    "language_info": {
      "codemirror_mode": {
        "name": "ipython",
        "version": 3
      },
      "file_extension": ".py",
      "mimetype": "text/x-python",
      "name": "python",
      "nbconvert_exporter": "python",
      "pygments_lexer": "ipython3",
      "version": "3.6.4"
    },
    "colab": {
      "name": "multinomial-logistic-regression.ipynb",
      "provenance": []
    }
  },
  "nbformat": 4,
  "nbformat_minor": 0
}
