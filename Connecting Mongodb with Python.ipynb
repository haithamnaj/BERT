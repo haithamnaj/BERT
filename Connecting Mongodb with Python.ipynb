{
 "cells": [
  {
   "cell_type": "code",
   "execution_count": 1,
   "id": "e7c27b80",
   "metadata": {},
   "outputs": [],
   "source": [
    "import pymongo"
   ]
  },
  {
   "cell_type": "code",
   "execution_count": 5,
   "id": "c12c3635",
   "metadata": {
    "scrolled": true
   },
   "outputs": [],
   "source": [
    "client = pymongo.MongoClient('mongodb://127.0.0.1:27017/')"
   ]
  },
  {
   "cell_type": "code",
   "execution_count": 2,
   "id": "3dc732bf",
   "metadata": {},
   "outputs": [],
   "source": [
    "### Creat data and insert it into mongodb"
   ]
  },
  {
   "cell_type": "code",
   "execution_count": 7,
   "id": "1c09f8f2",
   "metadata": {},
   "outputs": [],
   "source": [
    "mydb = client['Employee']\n",
    "information = mydb.employeeinformation"
   ]
  },
  {
   "cell_type": "code",
   "execution_count": 9,
   "id": "e56e2d4e",
   "metadata": {},
   "outputs": [],
   "source": [
    "record = { \"firstnae\": \"Kirsh\", \"Lastname\":\"Naik\",\"depatrment\":\"analystics\"}"
   ]
  },
  {
   "cell_type": "code",
   "execution_count": 10,
   "id": "787f626d",
   "metadata": {},
   "outputs": [
    {
     "data": {
      "text/plain": [
       "<pymongo.results.InsertOneResult at 0x22b734b27c0>"
      ]
     },
     "execution_count": 10,
     "metadata": {},
     "output_type": "execute_result"
    }
   ],
   "source": [
    "information.insert_one(record)"
   ]
  },
  {
   "cell_type": "code",
   "execution_count": 17,
   "id": "f5162f3a",
   "metadata": {},
   "outputs": [
    {
     "data": {
      "text/plain": [
       "{'_id': ObjectId('612fb3cebf9d01517b03f46a'),\n",
       " 'firstnae': 'Kirsh',\n",
       " 'Lastname': 'Naik',\n",
       " 'depatrment': 'analystics'}"
      ]
     },
     "execution_count": 17,
     "metadata": {},
     "output_type": "execute_result"
    }
   ],
   "source": [
    "information.find_one()"
   ]
  },
  {
   "cell_type": "code",
   "execution_count": 19,
   "id": "53739edb",
   "metadata": {},
   "outputs": [],
   "source": [
    "records = [{\"firstname\":\"Haitha\"},{\"Secondname\":\"ALI\"}]"
   ]
  },
  {
   "cell_type": "code",
   "execution_count": 23,
   "id": "a54a668c",
   "metadata": {},
   "outputs": [
    {
     "data": {
      "text/plain": [
       "<pymongo.results.InsertManyResult at 0x22b734ac7c0>"
      ]
     },
     "execution_count": 23,
     "metadata": {},
     "output_type": "execute_result"
    }
   ],
   "source": [
    "information.insert_many(records)"
   ]
  },
  {
   "cell_type": "code",
   "execution_count": 26,
   "id": "1ecb6fad",
   "metadata": {},
   "outputs": [
    {
     "data": {
      "text/plain": [
       "<pymongo.cursor.Cursor at 0x22b73a1d610>"
      ]
     },
     "execution_count": 26,
     "metadata": {},
     "output_type": "execute_result"
    }
   ],
   "source": [
    "information.find()"
   ]
  },
  {
   "cell_type": "code",
   "execution_count": 28,
   "id": "a5c96a3b",
   "metadata": {},
   "outputs": [
    {
     "name": "stdout",
     "output_type": "stream",
     "text": [
      "{'_id': ObjectId('612fb3cebf9d01517b03f46a'), 'firstnae': 'Kirsh', 'Lastname': 'Naik', 'depatrment': 'analystics'}\n",
      "{'_id': ObjectId('612fba73bf9d01517b03f46b'), 'firstname': 'Haitha'}\n",
      "{'_id': ObjectId('612fba73bf9d01517b03f46c'), 'Secondname': 'ALI'}\n"
     ]
    }
   ],
   "source": [
    "for record in information.find():\n",
    "    print(record)"
   ]
  },
  {
   "cell_type": "code",
   "execution_count": 31,
   "id": "64c7afab",
   "metadata": {},
   "outputs": [
    {
     "name": "stdout",
     "output_type": "stream",
     "text": [
      "{'_id': ObjectId('612fba73bf9d01517b03f46c'), 'Secondname': 'ALI'}\n"
     ]
    }
   ],
   "source": [
    "for record in information.find({\"Secondname\":\"ALI\"}):\n",
    "    print(record)"
   ]
  },
  {
   "cell_type": "markdown",
   "id": "03175f10",
   "metadata": {},
   "source": [
    "## Insert csv file into Mongodb\n"
   ]
  },
  {
   "cell_type": "code",
   "execution_count": 1,
   "id": "766d30bd",
   "metadata": {},
   "outputs": [],
   "source": [
    "import pymongo\n",
    "client = pymongo.MongoClient('mongodb://127.0.0.1:27017/')"
   ]
  },
  {
   "cell_type": "code",
   "execution_count": 3,
   "id": "ad04034a",
   "metadata": {},
   "outputs": [],
   "source": [
    "import pandas as pd\n",
    "import numpy as np\n",
    "data = pd.read_csv(r\"C:\\Users\\Guardhat001\\Desktop\\python_Guardhat\\analytics_friendly_database.csv\")"
   ]
  },
  {
   "cell_type": "code",
   "execution_count": 4,
   "id": "eba178b9",
   "metadata": {},
   "outputs": [],
   "source": [
    "## name the main file Monogodata_kyraserver\n",
    "\n",
    "db = client[\"Monogodata_kyraserver\"]"
   ]
  },
  {
   "cell_type": "code",
   "execution_count": 5,
   "id": "cd3f00e0",
   "metadata": {},
   "outputs": [],
   "source": [
    "dic = data.to_dict(orient = \"records\")"
   ]
  },
  {
   "cell_type": "code",
   "execution_count": 11,
   "id": "e617c2f9",
   "metadata": {},
   "outputs": [
    {
     "data": {
      "text/plain": [
       "<pymongo.results.InsertManyResult at 0x27d27be8980>"
      ]
     },
     "execution_count": 11,
     "metadata": {},
     "output_type": "execute_result"
    }
   ],
   "source": [
    "## name the branch file mongo\n",
    "db.analytics_friendly_database.insert_many(dic)"
   ]
  },
  {
   "cell_type": "code",
   "execution_count": null,
   "id": "f23b7565",
   "metadata": {},
   "outputs": [],
   "source": []
  }
 ],
 "metadata": {
  "kernelspec": {
   "display_name": "Python 3",
   "language": "python",
   "name": "python3"
  },
  "language_info": {
   "codemirror_mode": {
    "name": "ipython",
    "version": 3
   },
   "file_extension": ".py",
   "mimetype": "text/x-python",
   "name": "python",
   "nbconvert_exporter": "python",
   "pygments_lexer": "ipython3",
   "version": "3.8.8"
  }
 },
 "nbformat": 4,
 "nbformat_minor": 5
}
